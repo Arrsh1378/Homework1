{
 "cells": [
  {
   "cell_type": "code",
   "execution_count": 1,
   "id": "bc66be44",
   "metadata": {},
   "outputs": [],
   "source": [
    "import numpy as np\n",
    "import matplotlib.pyplot as plt\n",
    "from matplotlib.pyplot import figure\n",
    "from scipy import sparse\n",
    "import scipy.sparse.linalg as spla\n",
    "Bi = 0.1\n",
    "A_r = 20\n",
    "m = (A_r*Bi)**2\n",
    "T_mid = []"
   ]
  },
  {
   "cell_type": "code",
   "execution_count": 2,
   "id": "e43a3ed2",
   "metadata": {},
   "outputs": [
    {
     "data": {
      "text/plain": [
       "308.2589518204364"
      ]
     },
     "execution_count": 2,
     "metadata": {},
     "output_type": "execute_result"
    }
   ],
   "source": [
    "p = 0.5\n",
    "T_Exact = 60*((np.cosh(m*p)+((np.sinh(m*p))*(Bi/m)))/(np.cosh(m)+((np.sinh(m))*(Bi/m))))+300\n",
    "T_Exact"
   ]
  },
  {
   "cell_type": "code",
   "execution_count": 3,
   "id": "613ef279",
   "metadata": {},
   "outputs": [],
   "source": [
    "def generate_les(n,m,Bi):\n",
    "    \n",
    "    def initialize_variables(n):\n",
    "        I = np.zeros(3*(n-1))\n",
    "        J = np.zeros(3*(n-1))\n",
    "        V = np.zeros(3*(n-1))\n",
    "        B = np.zeros(n)\n",
    "        return I, J, V, B\n",
    "\n",
    "    def dx(n):\n",
    "        dx = 1/(n-1)\n",
    "        return dx\n",
    "\n",
    "    def initialize_coeffs(I,J,V,n,dx,m):\n",
    "        for i in range(1,n-1):\n",
    "            k = 3*(i-1) + np.linspace(1,4,3)\n",
    "            I[int(k[0]):int(k[-1])] = int(i)\n",
    "            J[int(k[0]):int(k[-1])] = (i-1, i, i+1)\n",
    "            V[int(k[0]):int(k[-1])] = (1, -(2+((m*dx)**2)), 1)\n",
    "        \n",
    "    def left_bc (I,J,V,B,n,dx):\n",
    "        k = np.linspace(0,1,2)\n",
    "        I[0] = 0\n",
    "        J[0] = 0\n",
    "        V[0] = 1\n",
    "        B[0] = 1\n",
    "    \n",
    "    def right_bc (I,J,V,n,dx,m,Bi):\n",
    "        k = (3*(n-1)-2) + np.linspace(0,1,2)\n",
    "        I[int(k[0]):int(k[-1])+1] = n-1\n",
    "        J[int(k[0]):int(k[-1])+1] = (n-2, n-1)\n",
    "        V[int(k[0]):int(k[-1])+1] = (-1, 1+Bi*dx)\n",
    "        \n",
    "    bc = (left_bc, right_bc)\n",
    "    \n",
    "    dx = dx(n)\n",
    "    lbc, rbc = bc\n",
    "    I,J,V,B = initialize_variables(n)\n",
    "    initialize_coeffs(I,J,V,n,dx,m)\n",
    "    lbc(I,J,V,B,n,dx)\n",
    "    rbc(I,J,V,n,dx,m,Bi)\n",
    "    return sparse.csc_matrix((V,(I,J)),shape=(n,n)), B\n",
    "\n",
    "\n",
    "def steady_1D_conduction(n,m,Bi):\n",
    "    dz = np.linspace(0,1,n)\n",
    "    A,B = generate_les(n,m,Bi)\n",
    "    \n",
    "    def counter(rk=None):\n",
    "        counter.niter += 1\n",
    "        print(\"# iter {:3d}, residual = {}\".format(counter.niter,str(rk)))\n",
    "    A2= A\n",
    "    M2 = spla.spilu(A2,fill_factor=10) # fill ratio upper bound\n",
    "    M_x = lambda x: M2.solve(x)\n",
    "    M = spla.LinearOperator((n,n), M_x)\n",
    "    counter.niter = 0\n",
    "    theta = spla.gmres(A2,B,tol=1e-6,M=M,callback=counter)\n",
    "    theta = theta[0]\n",
    "    return dz, theta"
   ]
  },
  {
   "cell_type": "markdown",
   "id": "fd0d5ac7",
   "metadata": {},
   "source": [
    "# n = 9"
   ]
  },
  {
   "cell_type": "code",
   "execution_count": 4,
   "id": "eea9a6d8",
   "metadata": {},
   "outputs": [
    {
     "name": "stdout",
     "output_type": "stream",
     "text": [
      "# iter   1, residual = 3.3247515482185333e-16\n"
     ]
    }
   ],
   "source": [
    "n = 9\n",
    "sol = np.zeros(n)\n",
    "sol = steady_1D_conduction(n,m,Bi)[1]\n",
    "i = int((n-1)/2)\n",
    "T_mid.append(sol[i])"
   ]
  },
  {
   "cell_type": "code",
   "execution_count": 5,
   "id": "ccdc9d5a",
   "metadata": {},
   "outputs": [
    {
     "data": {
      "image/png": "[encoded data removed]",
      "text/plain": [
       "<Figure size 432x288 with 1 Axes>"
      ]
     },
     "metadata": {
      "needs_background": "light"
     },
     "output_type": "display_data"
    }
   ],
   "source": [
    "dx1 = np.linspace(0,1,len(sol))\n",
    "plt.plot(dx1, sol, 'og', linewidth = 2.5)\n",
    "plt.title('theta vs h', fontsize = 15)\n",
    "plt.xlabel('h', fontsize = 15)\n",
    "plt.ylabel('theta', fontsize = 15)\n",
    "plt.grid(b=True, which='major', linewidth=1, linestyle='-')\n",
    "plt.grid(b=True, which='minor', linewidth=1, linestyle='-')\n",
    "plt.show()"
   ]
  },
  {
   "cell_type": "markdown",
   "id": "12868609",
   "metadata": {},
   "source": [
    "# n = 65"
   ]
  },
  {
   "cell_type": "code",
   "execution_count": 6,
   "id": "b12ff5d6",
   "metadata": {},
   "outputs": [
    {
     "name": "stdout",
     "output_type": "stream",
     "text": [
      "# iter   1, residual = 3.815611710431799e-15\n"
     ]
    }
   ],
   "source": [
    "n = 65\n",
    "sol = steady_1D_conduction(n,m,Bi)[1]\n",
    "i = int((n-1)/2)\n",
    "T_mid.append(sol[i])"
   ]
  },
  {
   "cell_type": "markdown",
   "id": "2ab85d34",
   "metadata": {},
   "source": [
    "# n = 129"
   ]
  },
  {
   "cell_type": "code",
   "execution_count": 7,
   "id": "c5242f47",
   "metadata": {},
   "outputs": [
    {
     "name": "stdout",
     "output_type": "stream",
     "text": [
      "# iter   1, residual = 3.6059967686854876e-15\n"
     ]
    }
   ],
   "source": [
    "n = 129\n",
    "sol = steady_1D_conduction(n,m,Bi)[1]\n",
    "i = int((n-1)/2)\n",
    "T_mid.append(sol[i])"
   ]
  },
  {
   "cell_type": "markdown",
   "id": "d36b0561",
   "metadata": {},
   "source": [
    "# n = 513"
   ]
  },
  {
   "cell_type": "code",
   "execution_count": 8,
   "id": "71a5adc8",
   "metadata": {},
   "outputs": [
    {
     "name": "stdout",
     "output_type": "stream",
     "text": [
      "# iter   1, residual = 3.9039418599414436e-13\n"
     ]
    }
   ],
   "source": [
    "n = 513\n",
    "sol = steady_1D_conduction(n,m,Bi)[1]\n",
    "i = int((n-1)/2)\n",
    "T_mid.append(sol[i])"
   ]
  },
  {
   "cell_type": "markdown",
   "id": "5d8714c2",
   "metadata": {},
   "source": [
    "# n = 1025"
   ]
  },
  {
   "cell_type": "code",
   "execution_count": 9,
   "id": "8a2bd806",
   "metadata": {},
   "outputs": [
    {
     "name": "stdout",
     "output_type": "stream",
     "text": [
      "# iter   1, residual = 7.145321841176012e-13\n"
     ]
    }
   ],
   "source": [
    "n = 1025\n",
    "sol = steady_1D_conduction(n,m,Bi)[1]\n",
    "i = int((n-1)/2)\n",
    "T_mid.append(sol[i])"
   ]
  },
  {
   "cell_type": "markdown",
   "id": "fd2ae3ec",
   "metadata": {},
   "source": [
    "# n = 4097"
   ]
  },
  {
   "cell_type": "code",
   "execution_count": 10,
   "id": "44ee308d",
   "metadata": {},
   "outputs": [
    {
     "name": "stdout",
     "output_type": "stream",
     "text": [
      "# iter   1, residual = 7.772704505203053e-12\n"
     ]
    }
   ],
   "source": [
    "n = 4097\n",
    "sol = steady_1D_conduction(n,m,Bi)[1]\n",
    "i = int((n-1)/2)\n",
    "T_mid.append(sol[i])"
   ]
  },
  {
   "cell_type": "markdown",
   "id": "cc723c92",
   "metadata": {},
   "source": [
    "# n = 16385"
   ]
  },
  {
   "cell_type": "code",
   "execution_count": 11,
   "id": "a7a8d007",
   "metadata": {},
   "outputs": [
    {
     "name": "stdout",
     "output_type": "stream",
     "text": [
      "# iter   1, residual = 1.95478355519472e-10\n"
     ]
    }
   ],
   "source": [
    "n = 16385\n",
    "sol = steady_1D_conduction(n,m,Bi)[1]\n",
    "i = int((n-1)/2)\n",
    "T_mid.append(sol[i])"
   ]
  },
  {
   "cell_type": "markdown",
   "id": "f6ab7b4f",
   "metadata": {},
   "source": [
    "# n = 65538"
   ]
  },
  {
   "cell_type": "code",
   "execution_count": 12,
   "id": "a06f0984",
   "metadata": {},
   "outputs": [
    {
     "name": "stdout",
     "output_type": "stream",
     "text": [
      "# iter   1, residual = 8.670997064055407e-09\n"
     ]
    }
   ],
   "source": [
    "n = 65538\n",
    "sol = steady_1D_conduction(n,m,Bi)[1]\n",
    "i = int((n-1)/2)\n",
    "T_mid.append(sol[i])"
   ]
  },
  {
   "cell_type": "markdown",
   "id": "d3201d9f",
   "metadata": {},
   "source": [
    "# n = 131075"
   ]
  },
  {
   "cell_type": "code",
   "execution_count": 13,
   "id": "ee112a45",
   "metadata": {},
   "outputs": [
    {
     "name": "stdout",
     "output_type": "stream",
     "text": [
      "# iter   1, residual = 5.89006508946052e-08\n"
     ]
    }
   ],
   "source": [
    "n = 131075\n",
    "sol = steady_1D_conduction(n,m,Bi)[1]\n",
    "i = int((n-1)/2)\n",
    "T_mid.append(sol[i])"
   ]
  },
  {
   "cell_type": "markdown",
   "id": "9b534719",
   "metadata": {},
   "source": [
    "# n = 524297"
   ]
  },
  {
   "cell_type": "code",
   "execution_count": 14,
   "id": "49b172b7",
   "metadata": {},
   "outputs": [
    {
     "name": "stdout",
     "output_type": "stream",
     "text": [
      "# iter   1, residual = 5.447997406319187e-06\n"
     ]
    }
   ],
   "source": [
    "n = 524297\n",
    "sol = steady_1D_conduction(n,m,Bi)[1]\n",
    "i = int((n-1)/2)\n",
    "T_mid.append(sol[i])"
   ]
  },
  {
   "cell_type": "markdown",
   "id": "727eca8f",
   "metadata": {},
   "source": [
    "# n = 1048594"
   ]
  },
  {
   "cell_type": "code",
   "execution_count": 15,
   "id": "2f86c4c9",
   "metadata": {},
   "outputs": [
    {
     "name": "stdout",
     "output_type": "stream",
     "text": [
      "# iter   1, residual = 4.203077895491509e-05\n"
     ]
    }
   ],
   "source": [
    "n = 1048594\n",
    "sol = steady_1D_conduction(n,m,Bi)[1]\n",
    "i = int((n-1)/2)\n",
    "T_mid.append(sol[i])"
   ]
  },
  {
   "cell_type": "markdown",
   "id": "a592a6f8",
   "metadata": {},
   "source": [
    "# n = 2097186"
   ]
  },
  {
   "cell_type": "code",
   "execution_count": 16,
   "id": "ba2ec32a",
   "metadata": {},
   "outputs": [
    {
     "name": "stdout",
     "output_type": "stream",
     "text": [
      "# iter   1, residual = 0.00014046131710504365\n"
     ]
    }
   ],
   "source": [
    "n = 2097186\n",
    "sol = steady_1D_conduction(n,m,Bi)[1]\n",
    "i = int((n-1)/2)\n",
    "T_mid.append(sol[i])"
   ]
  },
  {
   "cell_type": "code",
   "execution_count": 17,
   "id": "ff317cab",
   "metadata": {},
   "outputs": [
    {
     "data": {
      "text/plain": [
       "[308.52785645153614,\n",
       " 308.2706885233689,\n",
       " 308.2640544940089,\n",
       " 308.260084401065,\n",
       " 308.25950620738854,\n",
       " 308.25908818627323,\n",
       " 308.2589857726083,\n",
       " 308.25920371433045,\n",
       " 308.2589560716976,\n",
       " 308.2589537196271,\n",
       " 308.2589538416244,\n",
       " 308.2586948323201]"
      ]
     },
     "execution_count": 17,
     "metadata": {},
     "output_type": "execute_result"
    }
   ],
   "source": [
    "for i in range (len(T_mid)):\n",
    "    T_mid[i] = (T_mid[i]*60)+300\n",
    "T_mid"
   ]
  },
  {
   "cell_type": "code",
   "execution_count": 18,
   "id": "de1fe107",
   "metadata": {},
   "outputs": [],
   "source": [
    "E_t = np.zeros(len(T_mid))\n",
    "E_t = abs(T_Exact - T_mid)\n",
    "E_s = []\n",
    "for i in range(1,len(T_mid)):\n",
    "    if (i==len(T_mid)):\n",
    "        break\n",
    "    else:\n",
    "        E_s.append(abs(T_mid[i]-T_mid[i-1]))"
   ]
  },
  {
   "cell_type": "code",
   "execution_count": 21,
   "id": "81ea7e26",
   "metadata": {},
   "outputs": [
    {
     "data": {
      "image/png": "[encoded data removed]",
      "text/plain": [
       "<Figure size 720x720 with 1 Axes>"
      ]
     },
     "metadata": {
      "needs_background": "light"
     },
     "output_type": "display_data"
    }
   ],
   "source": [
    "from matplotlib.pyplot import figure\n",
    "\n",
    "figure(figsize=(9, 9), dpi=80)\n",
    "\n",
    "\n",
    "dx1 = [1/8, 1/64, 1/128, 1/512, 1/1024, 1/4096, 1/16384, 1/65537, 1/131074, 1/524296, 1/1048593, 1/2097186]\n",
    "dx2 = [1/64, 1/128, 1/512, 1/1024, 1/4096, 1/16384, 1/65537, 1/131074, 1/524296, 1/1048593, 1/2097186]\n",
    "plt.loglog(dx1, E_t, 'ok', dx2, E_s, '*b', linewidth = 2.5)\n",
    "plt.title('Errors vs dx', fontsize = 15)\n",
    "plt.xlabel('dx', fontsize = 15)\n",
    "plt.ylabel('Error', fontsize = 15)\n",
    "plt.grid(b=True, which='major', linewidth=1, linestyle='-')\n",
    "plt.grid(b=True, which='minor', linewidth=1, linestyle='-')\n",
    "plt.legend(( 'True Error', 'Successive Error'), loc = 0)\n",
    "plt.show()"
   ]
  }
 ],
 "metadata": {
  "kernelspec": {
   "display_name": "Python 3 (ipykernel)",
   "language": "python",
   "name": "python3"
  },
  "language_info": {
   "codemirror_mode": {
    "name": "ipython",
    "version": 3
   },
   "file_extension": ".py",
   "mimetype": "text/x-python",
   "name": "python",
   "nbconvert_exporter": "python",
   "pygments_lexer": "ipython3",
   "version": "3.9.7"
  }
 },
 "nbformat": 4,
 "nbformat_minor": 5
}

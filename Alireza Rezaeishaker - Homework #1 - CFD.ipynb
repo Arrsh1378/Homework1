{
 "cells": [
  {
   "cell_type": "code",
   "execution_count": 2,
   "id": "3c36adc5",
   "metadata": {},
   "outputs": [
    {
     "data": {
      "text/plain": [
       "304.94707356104504"
      ]
     },
     "execution_count": 2,
     "metadata": {},
     "output_type": "execute_result"
    }
   ],
   "source": [
    "m = 5\n",
    "z = 1-0.5\n",
    "T_Exact = 60*((np.cosh(m*z)+((np.sinh(m*z))/m))/(np.cosh(m)+((np.sinh(m))/m)))+300\n",
    "T_mid = []\n",
    "T_Exact"
   ]
  },
  {
   "cell_type": "markdown",
   "id": "650ac88d",
   "metadata": {},
   "source": [
    "# n = 4"
   ]
  },
  {
   "cell_type": "code",
   "execution_count": 1,
   "id": "1b69db45",
   "metadata": {},
   "outputs": [],
   "source": [
    "import numpy as np\n",
    "import matplotlib.pyplot as plt\n",
    "from scipy import sparse\n",
    "import scipy.sparse.linalg as spla\n",
    "\n",
    "def Matrix_provider(n):\n",
    "    #n is Number of divisions#\n",
    "    f = n+1\n",
    "    A = np.zeros((f,f))\n",
    "    B = np.zeros((f,1))\n",
    "    dx = 1/n\n",
    "    a = 2 + 25*(dx**2)\n",
    "    b = 1 + dx\n",
    "    for i in range(f):\n",
    "        if (i==0):\n",
    "            A[i][i] = 1\n",
    "        elif(i==f-1):\n",
    "            A[-1][-1] = b\n",
    "            A[-1][f-2] = -1\n",
    "        else:\n",
    "            A[i][i+1] = 1\n",
    "            A[i][i+1] = 1\n",
    "            A[i][i] = -a\n",
    "    for i in range (1,f-1):\n",
    "        for j in range (1,f-1):\n",
    "            A[j][i] = A[i][j]\n",
    "    A[1][0] = 1\n",
    "    for i in range(f+1):\n",
    "        if (i==0):\n",
    "            B[i][i] = 60\n",
    "        else:\n",
    "            break\n",
    "    return A,B\n",
    "\n",
    "n = 4\n",
    "[A,B] = Matrix_provider(n)"
   ]
  },
  {
   "cell_type": "code",
   "execution_count": 3,
   "id": "08c78016",
   "metadata": {},
   "outputs": [
    {
     "data": {
      "image/png": "[encoded data removed]",
      "text/plain": [
       "<Figure size 432x288 with 1 Axes>"
      ]
     },
     "metadata": {
      "needs_background": "light"
     },
     "output_type": "display_data"
    }
   ],
   "source": [
    "x = A\n",
    "\n",
    "plt.spy(x, markersize=0.1)\n",
    "plt.spy(x, precision=0.1, markersize=3)\n",
    "\n",
    "plt.show()"
   ]
  },
  {
   "cell_type": "code",
   "execution_count": 4,
   "id": "62acb381",
   "metadata": {},
   "outputs": [
    {
     "name": "stdout",
     "output_type": "stream",
     "text": [
      "# iter   1, residual = 0.0\n",
      "# iter   2, residual = None\n"
     ]
    },
    {
     "data": {
      "text/plain": [
       "[array([305.76822494])]"
      ]
     },
     "execution_count": 4,
     "metadata": {},
     "output_type": "execute_result"
    }
   ],
   "source": [
    "# fill_factor=10\n",
    "w1 = []\n",
    "e1 = []\n",
    "def counter(rk=None):\n",
    "    counter.niter += 1\n",
    "    print(\"# iter {:3d}, residual = {}\".format(counter.niter,str(rk)))\n",
    "    w1.append(str(rk))\n",
    "    return w1\n",
    "A2= sparse.csc_matrix(A)\n",
    "M2 = spla.spilu(A2,fill_factor=10) # fill ratio upper bound\n",
    "M_x = lambda x: M2.solve(x)\n",
    "M = spla.LinearOperator((n+1,n+1), M_x)\n",
    "counter.niter = 0\n",
    "theta = spla.gmres(A2,B,M=M,callback=counter)\n",
    "w1 = counter(rk=None)\n",
    "\n",
    "for i in range(len(w1)-1):\n",
    "    e1.append(float(w1[i]))\n",
    "\n",
    "x = np.zeros((n+1,1)) + 300\n",
    "T = np.zeros((n+1,1))\n",
    "theta = np.reshape(theta[0], (n+1,1))\n",
    "T = theta + x\n",
    "T_mid.append(T[2])\n",
    "T_mid"
   ]
  },
  {
   "cell_type": "markdown",
   "id": "c2346b8a",
   "metadata": {},
   "source": [
    "# n = 10"
   ]
  },
  {
   "cell_type": "code",
   "execution_count": 5,
   "id": "b9e9c738",
   "metadata": {},
   "outputs": [],
   "source": [
    "def Matrix_provider(n):\n",
    "    #n is Number of divisions#\n",
    "    f = n+1\n",
    "    A = np.zeros((f,f))\n",
    "    B = np.zeros((f,1))\n",
    "    dx = 1/n\n",
    "    a = 2 + 25*(dx**2)\n",
    "    b = 1 + dx\n",
    "    for i in range(f):\n",
    "        if (i==0):\n",
    "            A[i][i] = 1\n",
    "        elif(i==f-1):\n",
    "            A[-1][-1] = b\n",
    "            A[-1][f-2] = -1\n",
    "        else:\n",
    "            A[i][i+1] = 1\n",
    "            A[i][i+1] = 1\n",
    "            A[i][i] = -a\n",
    "    for i in range (1,f-1):\n",
    "        for j in range (1,f-1):\n",
    "            A[j][i] = A[i][j]\n",
    "    A[1][0] = 1\n",
    "    for i in range(f+1):\n",
    "        if (i==0):\n",
    "            B[i][i] = 60\n",
    "        else:\n",
    "            break\n",
    "    return A,B\n",
    "\n",
    "n = 10\n",
    "[A,B] = Matrix_provider(n)"
   ]
  },
  {
   "cell_type": "code",
   "execution_count": 6,
   "id": "504db3dd",
   "metadata": {},
   "outputs": [
    {
     "data": {
      "image/png": "[encoded data removed]",
      "text/plain": [
       "<Figure size 432x288 with 1 Axes>"
      ]
     },
     "metadata": {
      "needs_background": "light"
     },
     "output_type": "display_data"
    }
   ],
   "source": [
    "x = A\n",
    "\n",
    "plt.spy(x, markersize=0.1)\n",
    "plt.spy(x, precision=0.1, markersize=3)\n",
    "\n",
    "plt.show()"
   ]
  },
  {
   "cell_type": "code",
   "execution_count": 7,
   "id": "d1d4caad",
   "metadata": {},
   "outputs": [
    {
     "name": "stdout",
     "output_type": "stream",
     "text": [
      "# iter   1, residual = 3.044787474735445e-16\n",
      "# iter   2, residual = None\n"
     ]
    },
    {
     "data": {
      "text/plain": [
       "[array([305.76822494]), array([305.09064788])]"
      ]
     },
     "execution_count": 7,
     "metadata": {},
     "output_type": "execute_result"
    }
   ],
   "source": [
    "# fill_factor=10\n",
    "w1 = []\n",
    "e1 = []\n",
    "def counter(rk=None):\n",
    "    counter.niter += 1\n",
    "    print(\"# iter {:3d}, residual = {}\".format(counter.niter,str(rk)))\n",
    "    w1.append(str(rk))\n",
    "    return w1\n",
    "A2= sparse.csc_matrix(A)\n",
    "M2 = spla.spilu(A2,fill_factor=10) # fill ratio upper bound\n",
    "M_x = lambda x: M2.solve(x)\n",
    "M = spla.LinearOperator((n+1,n+1), M_x)\n",
    "counter.niter = 0\n",
    "theta = spla.gmres(A2,B,M=M,callback=counter)\n",
    "w1 = counter(rk=None)\n",
    "\n",
    "for i in range(len(w1)-1):\n",
    "    e1.append(float(w1[i]))\n",
    "\n",
    "x = np.zeros((n+1,1)) + 300\n",
    "T = np.zeros((n+1,1))\n",
    "theta = np.reshape(theta[0], (n+1,1))\n",
    "T = theta + x\n",
    "T_mid.append(T[5])\n",
    "T_mid"
   ]
  },
  {
   "cell_type": "markdown",
   "id": "304c7782",
   "metadata": {},
   "source": [
    "# n = 50"
   ]
  },
  {
   "cell_type": "code",
   "execution_count": 8,
   "id": "3e4b50b4",
   "metadata": {},
   "outputs": [],
   "source": [
    "def Matrix_provider(n):\n",
    "    #n is Number of divisions#\n",
    "    f = n+1\n",
    "    A = np.zeros((f,f))\n",
    "    B = np.zeros((f,1))\n",
    "    dx = 1/n\n",
    "    a = 2 + 25*(dx**2)\n",
    "    b = 1 + dx\n",
    "    for i in range(f):\n",
    "        if (i==0):\n",
    "            A[i][i] = 1\n",
    "        elif(i==f-1):\n",
    "            A[-1][-1] = b\n",
    "            A[-1][f-2] = -1\n",
    "        else:\n",
    "            A[i][i+1] = 1\n",
    "            A[i][i+1] = 1\n",
    "            A[i][i] = -a\n",
    "    for i in range (1,f-1):\n",
    "        for j in range (1,f-1):\n",
    "            A[j][i] = A[i][j]\n",
    "    A[1][0] = 1\n",
    "    for i in range(f+1):\n",
    "        if (i==0):\n",
    "            B[i][i] = 60\n",
    "        else:\n",
    "            break\n",
    "    return A,B\n",
    "\n",
    "n = 50\n",
    "[A,B] = Matrix_provider(n)"
   ]
  },
  {
   "cell_type": "code",
   "execution_count": 9,
   "id": "16a57756",
   "metadata": {},
   "outputs": [
    {
     "name": "stdout",
     "output_type": "stream",
     "text": [
      "# iter   1, residual = 1.6739735533590356e-15\n",
      "# iter   2, residual = None\n"
     ]
    },
    {
     "data": {
      "text/plain": [
       "[array([305.76822494]), array([305.09064788]), array([304.95467431])]"
      ]
     },
     "execution_count": 9,
     "metadata": {},
     "output_type": "execute_result"
    }
   ],
   "source": [
    "# fill_factor=10\n",
    "w1 = []\n",
    "e1 = []\n",
    "def counter(rk=None):\n",
    "    counter.niter += 1\n",
    "    print(\"# iter {:3d}, residual = {}\".format(counter.niter,str(rk)))\n",
    "    w1.append(str(rk))\n",
    "    return w1\n",
    "A2= sparse.csc_matrix(A)\n",
    "M2 = spla.spilu(A2,fill_factor=10) # fill ratio upper bound\n",
    "M_x = lambda x: M2.solve(x)\n",
    "M = spla.LinearOperator((n+1,n+1), M_x)\n",
    "counter.niter = 0\n",
    "theta = spla.gmres(A2,B,M=M,callback=counter)\n",
    "w1 = counter(rk=None)\n",
    "\n",
    "for i in range(len(w1)-1):\n",
    "    e1.append(float(w1[i]))\n",
    "\n",
    "x = np.zeros((n+1,1)) + 300\n",
    "T = np.zeros((n+1,1))\n",
    "theta = np.reshape(theta[0], (n+1,1))\n",
    "T = theta + x\n",
    "T_mid.append(T[25])\n",
    "T_mid"
   ]
  },
  {
   "cell_type": "markdown",
   "id": "0a16af8b",
   "metadata": {},
   "source": [
    "# n = 100"
   ]
  },
  {
   "cell_type": "code",
   "execution_count": 10,
   "id": "7e9c38f5",
   "metadata": {},
   "outputs": [],
   "source": [
    "def Matrix_provider(n):\n",
    "    #n is Number of divisions#\n",
    "    f = n+1\n",
    "    A = np.zeros((f,f))\n",
    "    B = np.zeros((f,1))\n",
    "    dx = 1/n\n",
    "    a = 2 + 25*(dx**2)\n",
    "    b = 1 + dx\n",
    "    for i in range(f):\n",
    "        if (i==0):\n",
    "            A[i][i] = 1\n",
    "        elif(i==f-1):\n",
    "            A[-1][-1] = b\n",
    "            A[-1][f-2] = -1\n",
    "        else:\n",
    "            A[i][i+1] = 1\n",
    "            A[i][i+1] = 1\n",
    "            A[i][i] = -a\n",
    "    for i in range (1,f-1):\n",
    "        for j in range (1,f-1):\n",
    "            A[j][i] = A[i][j]\n",
    "    A[1][0] = 1\n",
    "    for i in range(f+1):\n",
    "        if (i==0):\n",
    "            B[i][i] = 60\n",
    "        else:\n",
    "            break\n",
    "    return A,B\n",
    "\n",
    "n = 100\n",
    "[A,B] = Matrix_provider(n)"
   ]
  },
  {
   "cell_type": "code",
   "execution_count": 11,
   "id": "08988b8b",
   "metadata": {},
   "outputs": [
    {
     "name": "stdout",
     "output_type": "stream",
     "text": [
      "# iter   1, residual = 1.510352768623148e-14\n",
      "# iter   2, residual = None\n"
     ]
    },
    {
     "data": {
      "text/plain": [
       "[array([305.76822494]),\n",
       " array([305.09064788]),\n",
       " array([304.95467431]),\n",
       " array([304.94954533])]"
      ]
     },
     "execution_count": 11,
     "metadata": {},
     "output_type": "execute_result"
    }
   ],
   "source": [
    "# fill_factor=10\n",
    "w1 = []\n",
    "e1 = []\n",
    "def counter(rk=None):\n",
    "    counter.niter += 1\n",
    "    print(\"# iter {:3d}, residual = {}\".format(counter.niter,str(rk)))\n",
    "    w1.append(str(rk))\n",
    "    return w1\n",
    "A2= sparse.csc_matrix(A)\n",
    "M2 = spla.spilu(A2,fill_factor=10) # fill ratio upper bound\n",
    "M_x = lambda x: M2.solve(x)\n",
    "M = spla.LinearOperator((n+1,n+1), M_x)\n",
    "counter.niter = 0\n",
    "theta = spla.gmres(A2,B,M=M,callback=counter)\n",
    "w1 = counter(rk=None)\n",
    "\n",
    "for i in range(len(w1)-1):\n",
    "    e1.append(float(w1[i]))\n",
    "\n",
    "x = np.zeros((n+1,1)) + 300\n",
    "T = np.zeros((n+1,1))\n",
    "theta = np.reshape(theta[0], (n+1,1))\n",
    "T = theta + x\n",
    "T_mid.append(T[50])\n",
    "T_mid"
   ]
  },
  {
   "cell_type": "markdown",
   "id": "6364eee6",
   "metadata": {},
   "source": [
    "# n = 500"
   ]
  },
  {
   "cell_type": "code",
   "execution_count": 12,
   "id": "a0efca13",
   "metadata": {},
   "outputs": [],
   "source": [
    "def Matrix_provider(n):\n",
    "    #n is Number of divisions#\n",
    "    f = n+1\n",
    "    A = np.zeros((f,f))\n",
    "    B = np.zeros((f,1))\n",
    "    dx = 1/n\n",
    "    a = 2 + 25*(dx**2)\n",
    "    b = 1 + dx\n",
    "    for i in range(f):\n",
    "        if (i==0):\n",
    "            A[i][i] = 1\n",
    "        elif(i==f-1):\n",
    "            A[-1][-1] = b\n",
    "            A[-1][f-2] = -1\n",
    "        else:\n",
    "            A[i][i+1] = 1\n",
    "            A[i][i+1] = 1\n",
    "            A[i][i] = -a\n",
    "    for i in range (1,f-1):\n",
    "        for j in range (1,f-1):\n",
    "            A[j][i] = A[i][j]\n",
    "    A[1][0] = 1\n",
    "    for i in range(f+1):\n",
    "        if (i==0):\n",
    "            B[i][i] = 60\n",
    "        else:\n",
    "            break\n",
    "    return A,B\n",
    "\n",
    "n = 500\n",
    "[A,B] = Matrix_provider(n)"
   ]
  },
  {
   "cell_type": "code",
   "execution_count": 13,
   "id": "66b32ed8",
   "metadata": {},
   "outputs": [
    {
     "name": "stdout",
     "output_type": "stream",
     "text": [
      "# iter   1, residual = 6.797411571898146e-14\n",
      "# iter   2, residual = None\n"
     ]
    },
    {
     "data": {
      "text/plain": [
       "[array([305.76822494]),\n",
       " array([305.09064788]),\n",
       " array([304.95467431]),\n",
       " array([304.94954533]),\n",
       " array([304.94735551])]"
      ]
     },
     "execution_count": 13,
     "metadata": {},
     "output_type": "execute_result"
    }
   ],
   "source": [
    "# fill_factor=10\n",
    "w1 = []\n",
    "e1 = []\n",
    "def counter(rk=None):\n",
    "    counter.niter += 1\n",
    "    print(\"# iter {:3d}, residual = {}\".format(counter.niter,str(rk)))\n",
    "    w1.append(str(rk))\n",
    "    return w1\n",
    "A2= sparse.csc_matrix(A)\n",
    "M2 = spla.spilu(A2,fill_factor=10) # fill ratio upper bound\n",
    "M_x = lambda x: M2.solve(x)\n",
    "M = spla.LinearOperator((n+1,n+1), M_x)\n",
    "counter.niter = 0\n",
    "theta = spla.gmres(A2,B,M=M,callback=counter)\n",
    "w1 = counter(rk=None)\n",
    "\n",
    "for i in range(len(w1)-1):\n",
    "    e1.append(float(w1[i]))\n",
    "\n",
    "x = np.zeros((n+1,1)) + 300\n",
    "T = np.zeros((n+1,1))\n",
    "theta = np.reshape(theta[0], (n+1,1))\n",
    "T = theta + x\n",
    "T_mid.append(T[250])\n",
    "T_mid"
   ]
  },
  {
   "cell_type": "markdown",
   "id": "2dd0cd2e",
   "metadata": {},
   "source": [
    "# n = 1000"
   ]
  },
  {
   "cell_type": "code",
   "execution_count": 14,
   "id": "b26c031d",
   "metadata": {},
   "outputs": [],
   "source": [
    "def Matrix_provider(n):\n",
    "    #n is Number of divisions#\n",
    "    f = n+1\n",
    "    A = np.zeros((f,f))\n",
    "    B = np.zeros((f,1))\n",
    "    dx = 1/n\n",
    "    a = 2 + 25*(dx**2)\n",
    "    b = 1 + dx\n",
    "    for i in range(f):\n",
    "        if (i==0):\n",
    "            A[i][i] = 1\n",
    "        elif(i==f-1):\n",
    "            A[-1][-1] = b\n",
    "            A[-1][f-2] = -1\n",
    "        else:\n",
    "            A[i][i+1] = 1\n",
    "            A[i][i+1] = 1\n",
    "            A[i][i] = -a\n",
    "    for i in range (1,f-1):\n",
    "        for j in range (1,f-1):\n",
    "            A[j][i] = A[i][j]\n",
    "    A[1][0] = 1\n",
    "    for i in range(f+1):\n",
    "        if (i==0):\n",
    "            B[i][i] = 60\n",
    "        else:\n",
    "            break\n",
    "    return A,B\n",
    "\n",
    "n = 1000\n",
    "[A,B] = Matrix_provider(n)"
   ]
  },
  {
   "cell_type": "code",
   "execution_count": 15,
   "id": "f626e2ff",
   "metadata": {},
   "outputs": [
    {
     "name": "stdout",
     "output_type": "stream",
     "text": [
      "# iter   1, residual = 5.774115304759445e-13\n",
      "# iter   2, residual = None\n"
     ]
    },
    {
     "data": {
      "text/plain": [
       "[array([305.76822494]),\n",
       " array([305.09064788]),\n",
       " array([304.95467431]),\n",
       " array([304.94954533]),\n",
       " array([304.94735551]),\n",
       " array([304.94720127])]"
      ]
     },
     "execution_count": 15,
     "metadata": {},
     "output_type": "execute_result"
    }
   ],
   "source": [
    "# fill_factor=10\n",
    "w1 = []\n",
    "e1 = []\n",
    "def counter(rk=None):\n",
    "    counter.niter += 1\n",
    "    print(\"# iter {:3d}, residual = {}\".format(counter.niter,str(rk)))\n",
    "    w1.append(str(rk))\n",
    "    return w1\n",
    "A2= sparse.csc_matrix(A)\n",
    "M2 = spla.spilu(A2,fill_factor=10) # fill ratio upper bound\n",
    "M_x = lambda x: M2.solve(x)\n",
    "M = spla.LinearOperator((n+1,n+1), M_x)\n",
    "counter.niter = 0\n",
    "theta = spla.gmres(A2,B,M=M,callback=counter)\n",
    "w1 = counter(rk=None)\n",
    "\n",
    "for i in range(len(w1)-1):\n",
    "    e1.append(float(w1[i]))\n",
    "\n",
    "x = np.zeros((n+1,1)) + 300\n",
    "T = np.zeros((n+1,1))\n",
    "theta = np.reshape(theta[0], (n+1,1))\n",
    "T = theta + x\n",
    "T_mid.append(T[500])\n",
    "T_mid"
   ]
  },
  {
   "cell_type": "markdown",
   "id": "64d75461",
   "metadata": {},
   "source": [
    "# n = 5000"
   ]
  },
  {
   "cell_type": "code",
   "execution_count": 16,
   "id": "88f5c2d2",
   "metadata": {},
   "outputs": [],
   "source": [
    "def Matrix_provider(n):\n",
    "    #n is Number of divisions#\n",
    "    f = n+1\n",
    "    A = np.zeros((f,f))\n",
    "    B = np.zeros((f,1))\n",
    "    dx = 1/n\n",
    "    a = 2 + 25*(dx**2)\n",
    "    b = 1 + dx\n",
    "    for i in range(f):\n",
    "        if (i==0):\n",
    "            A[i][i] = 1\n",
    "        elif(i==f-1):\n",
    "            A[-1][-1] = b\n",
    "            A[-1][f-2] = -1\n",
    "        else:\n",
    "            A[i][i+1] = 1\n",
    "            A[i][i+1] = 1\n",
    "            A[i][i] = -a\n",
    "    for i in range (1,f-1):\n",
    "        for j in range (1,f-1):\n",
    "            A[j][i] = A[i][j]\n",
    "    A[1][0] = 1\n",
    "    for i in range(f+1):\n",
    "        if (i==0):\n",
    "            B[i][i] = 60\n",
    "        else:\n",
    "            break\n",
    "    return A,B\n",
    "\n",
    "n = 5000\n",
    "[A,B] = Matrix_provider(n)"
   ]
  },
  {
   "cell_type": "code",
   "execution_count": 17,
   "id": "20fdf165",
   "metadata": {},
   "outputs": [
    {
     "name": "stdout",
     "output_type": "stream",
     "text": [
      "# iter   1, residual = 7.045388583372397e-12\n",
      "# iter   2, residual = None\n"
     ]
    },
    {
     "data": {
      "text/plain": [
       "[array([305.76822494]),\n",
       " array([305.09064788]),\n",
       " array([304.95467431]),\n",
       " array([304.94954533]),\n",
       " array([304.94735551]),\n",
       " array([304.94720127]),\n",
       " array([304.94709698])]"
      ]
     },
     "execution_count": 17,
     "metadata": {},
     "output_type": "execute_result"
    }
   ],
   "source": [
    "# fill_factor=10\n",
    "w1 = []\n",
    "e1 = []\n",
    "def counter(rk=None):\n",
    "    counter.niter += 1\n",
    "    print(\"# iter {:3d}, residual = {}\".format(counter.niter,str(rk)))\n",
    "    w1.append(str(rk))\n",
    "    return w1\n",
    "A2= sparse.csc_matrix(A)\n",
    "M2 = spla.spilu(A2,fill_factor=10) # fill ratio upper bound\n",
    "M_x = lambda x: M2.solve(x)\n",
    "M = spla.LinearOperator((n+1,n+1), M_x)\n",
    "counter.niter = 0\n",
    "theta = spla.gmres(A2,B,M=M,callback=counter)\n",
    "w1 = counter(rk=None)\n",
    "\n",
    "for i in range(len(w1)-1):\n",
    "    e1.append(float(w1[i]))\n",
    "\n",
    "x = np.zeros((n+1,1)) + 300\n",
    "T0 = np.zeros((n+1,1))\n",
    "theta = np.reshape(theta[0], (n+1,1))\n",
    "T0 = theta + x\n",
    "T_mid.append(T0[2500])\n",
    "T_mid"
   ]
  },
  {
   "cell_type": "markdown",
   "id": "c11d68f0",
   "metadata": {},
   "source": [
    "# n = 10000"
   ]
  },
  {
   "cell_type": "code",
   "execution_count": 18,
   "id": "949b6ffd",
   "metadata": {},
   "outputs": [],
   "source": [
    "def Matrix_provider(n):\n",
    "    #n is Number of divisions#\n",
    "    f = n+1\n",
    "    A = np.zeros((f,f))\n",
    "    B = np.zeros((f,1))\n",
    "    dx = 1/n\n",
    "    a = 2 + 25*(dx**2)\n",
    "    b = 1 + dx\n",
    "    for i in range(f):\n",
    "        if (i==0):\n",
    "            A[i][i] = 1\n",
    "        elif(i==f-1):\n",
    "            A[-1][-1] = b\n",
    "            A[-1][f-2] = -1\n",
    "        else:\n",
    "            A[i][i+1] = 1\n",
    "            A[i][i+1] = 1\n",
    "            A[i][i] = -a\n",
    "    for i in range (1,f-1):\n",
    "        for j in range (1,f-1):\n",
    "            A[j][i] = A[i][j]\n",
    "    A[1][0] = 1\n",
    "    for i in range(f+1):\n",
    "        if (i==0):\n",
    "            B[i][i] = 60\n",
    "        else:\n",
    "            break\n",
    "    return A,B\n",
    "\n",
    "n = 10000\n",
    "[A,B] = Matrix_provider(n)"
   ]
  },
  {
   "cell_type": "code",
   "execution_count": 19,
   "id": "5b8edf22",
   "metadata": {},
   "outputs": [
    {
     "name": "stdout",
     "output_type": "stream",
     "text": [
      "# iter   1, residual = 4.832352970489713e-11\n",
      "# iter   2, residual = None\n"
     ]
    },
    {
     "data": {
      "text/plain": [
       "[array([305.76822494]),\n",
       " array([305.09064788]),\n",
       " array([304.95467431]),\n",
       " array([304.94954533]),\n",
       " array([304.94735551]),\n",
       " array([304.94720127]),\n",
       " array([304.94709698]),\n",
       " array([304.94708514])]"
      ]
     },
     "execution_count": 19,
     "metadata": {},
     "output_type": "execute_result"
    }
   ],
   "source": [
    "# fill_factor=10\n",
    "w1 = []\n",
    "e1 = []\n",
    "def counter(rk=None):\n",
    "    counter.niter += 1\n",
    "    print(\"# iter {:3d}, residual = {}\".format(counter.niter,str(rk)))\n",
    "    w1.append(str(rk))\n",
    "    return w1\n",
    "A2= sparse.csc_matrix(A)\n",
    "M2 = spla.spilu(A2,fill_factor=10) # fill ratio upper bound\n",
    "M_x = lambda x: M2.solve(x)\n",
    "M = spla.LinearOperator((n+1,n+1), M_x)\n",
    "counter.niter = 0\n",
    "theta = spla.gmres(A2,B,M=M,callback=counter)\n",
    "w1 = counter(rk=None)\n",
    "\n",
    "for i in range(len(w1)-1):\n",
    "    e1.append(float(w1[i]))\n",
    "\n",
    "x = np.zeros((n+1,1)) + 300\n",
    "T1 = np.zeros((n+1,1))\n",
    "theta = np.reshape(theta[0], (n+1,1))\n",
    "T1 = theta + x\n",
    "T_mid.append(T1[5000])\n",
    "T_mid"
   ]
  },
  {
   "cell_type": "code",
   "execution_count": 20,
   "id": "ecbea65f",
   "metadata": {},
   "outputs": [],
   "source": [
    "m = 5\n",
    "g = len(T1)\n",
    "x = np.linspace(0, 1, len(T1))\n",
    "T_Exact1 = []\n",
    "for i in range(g):\n",
    "    z = 1 - x[i]\n",
    "    T_Exact1.append(60*((np.cosh(m*z)+((np.sinh(m*z))/m))/(np.cosh(m)+((np.sinh(m))/m)))+300)"
   ]
  },
  {
   "cell_type": "markdown",
   "id": "d36bd4d6",
   "metadata": {},
   "source": [
    "# n = 20000"
   ]
  },
  {
   "cell_type": "code",
   "execution_count": 21,
   "id": "086872b7",
   "metadata": {},
   "outputs": [],
   "source": [
    "def Matrix_provider(n):\n",
    "    #n is Number of divisions#\n",
    "    f = n+1\n",
    "    A = np.zeros((f,f))\n",
    "    B = np.zeros((f,1))\n",
    "    dx = 1/n\n",
    "    a = 2 + 25*(dx**2)\n",
    "    b = 1 + dx\n",
    "    for i in range(f):\n",
    "        if (i==0):\n",
    "            A[i][i] = 1\n",
    "        elif(i==f-1):\n",
    "            A[-1][-1] = b\n",
    "            A[-1][f-2] = -1\n",
    "        else:\n",
    "            A[i][i+1] = 1\n",
    "            A[i][i+1] = 1\n",
    "            A[i][i] = -a\n",
    "    for i in range (1,f-1):\n",
    "        for j in range (1,f-1):\n",
    "            A[j][i] = A[i][j]\n",
    "    A[1][0] = 1\n",
    "    for i in range(f+1):\n",
    "        if (i==0):\n",
    "            B[i][i] = 60\n",
    "        else:\n",
    "            break\n",
    "    return A,B\n",
    "\n",
    "n = 20000\n",
    "[A,B] = Matrix_provider(n)"
   ]
  },
  {
   "cell_type": "code",
   "execution_count": 22,
   "id": "49114194",
   "metadata": {},
   "outputs": [
    {
     "name": "stdout",
     "output_type": "stream",
     "text": [
      "# iter   1, residual = 2.7517528381979645e-10\n",
      "# iter   2, residual = None\n"
     ]
    },
    {
     "data": {
      "text/plain": [
       "[array([305.76822494]),\n",
       " array([305.09064788]),\n",
       " array([304.95467431]),\n",
       " array([304.94954533]),\n",
       " array([304.94735551]),\n",
       " array([304.94720127]),\n",
       " array([304.94709698]),\n",
       " array([304.94708514]),\n",
       " array([304.94707933])]"
      ]
     },
     "execution_count": 22,
     "metadata": {},
     "output_type": "execute_result"
    }
   ],
   "source": [
    "# fill_factor=10\n",
    "w1 = []\n",
    "e1 = []\n",
    "def counter(rk=None):\n",
    "    counter.niter += 1\n",
    "    print(\"# iter {:3d}, residual = {}\".format(counter.niter,str(rk)))\n",
    "    w1.append(str(rk))\n",
    "    return w1\n",
    "A2= sparse.csc_matrix(A)\n",
    "M2 = spla.spilu(A2,fill_factor=10) # fill ratio upper bound\n",
    "M_x = lambda x: M2.solve(x)\n",
    "M = spla.LinearOperator((n+1,n+1), M_x)\n",
    "counter.niter = 0\n",
    "theta = spla.gmres(A2,B,M=M,callback=counter)\n",
    "w1 = counter(rk=None)\n",
    "\n",
    "for i in range(len(w1)-1):\n",
    "    e1.append(float(w1[i]))\n",
    "\n",
    "x = np.zeros((n+1,1)) + 300\n",
    "T2 = np.zeros((n+1,1))\n",
    "theta = np.reshape(theta[0], (n+1,1))\n",
    "T2 = theta + x\n",
    "T_mid.append(T2[10000])\n",
    "T_mid"
   ]
  },
  {
   "cell_type": "markdown",
   "id": "344e5355",
   "metadata": {},
   "source": [
    "# n = 30000"
   ]
  },
  {
   "cell_type": "code",
   "execution_count": 23,
   "id": "ae4bc444",
   "metadata": {},
   "outputs": [],
   "source": [
    "def Matrix_provider(n):\n",
    "    #n is Number of divisions#\n",
    "    f = n+1\n",
    "    A = np.zeros((f,f))\n",
    "    B = np.zeros((f,1))\n",
    "    dx = 1/n\n",
    "    a = 2 + 25*(dx**2)\n",
    "    b = 1 + dx\n",
    "    for i in range(f):\n",
    "        if (i==0):\n",
    "            A[i][i] = 1\n",
    "        elif(i==f-1):\n",
    "            A[-1][-1] = b\n",
    "            A[-1][f-2] = -1\n",
    "        else:\n",
    "            A[i][i+1] = 1\n",
    "            A[i][i+1] = 1\n",
    "            A[i][i] = -a\n",
    "    for i in range (1,f-1):\n",
    "        for j in range (1,f-1):\n",
    "            A[j][i] = A[i][j]\n",
    "    A[1][0] = 1\n",
    "    for i in range(f+1):\n",
    "        if (i==0):\n",
    "            B[i][i] = 60\n",
    "        else:\n",
    "            break\n",
    "    return A,B\n",
    "\n",
    "n = 30000\n",
    "[A,B] = Matrix_provider(n)"
   ]
  },
  {
   "cell_type": "code",
   "execution_count": 24,
   "id": "9d5fc859",
   "metadata": {},
   "outputs": [
    {
     "name": "stdout",
     "output_type": "stream",
     "text": [
      "# iter   1, residual = 2.9634445684593075e-10\n",
      "# iter   2, residual = None\n"
     ]
    },
    {
     "data": {
      "text/plain": [
       "[array([305.76822494]),\n",
       " array([305.09064788]),\n",
       " array([304.95467431]),\n",
       " array([304.94954533]),\n",
       " array([304.94735551]),\n",
       " array([304.94720127]),\n",
       " array([304.94709698]),\n",
       " array([304.94708514]),\n",
       " array([304.94707933]),\n",
       " array([304.94707737])]"
      ]
     },
     "execution_count": 24,
     "metadata": {},
     "output_type": "execute_result"
    }
   ],
   "source": [
    "# fill_factor=10\n",
    "w1 = []\n",
    "e1 = []\n",
    "def counter(rk=None):\n",
    "    counter.niter += 1\n",
    "    print(\"# iter {:3d}, residual = {}\".format(counter.niter,str(rk)))\n",
    "    w1.append(str(rk))\n",
    "    return w1\n",
    "A2= sparse.csc_matrix(A)\n",
    "M2 = spla.spilu(A2,fill_factor=10) # fill ratio upper bound\n",
    "M_x = lambda x: M2.solve(x)\n",
    "M = spla.LinearOperator((n+1,n+1), M_x)\n",
    "counter.niter = 0\n",
    "theta = spla.gmres(A2,B,M=M,callback=counter)\n",
    "w1 = counter(rk=None)\n",
    "\n",
    "for i in range(len(w1)-1):\n",
    "    e1.append(float(w1[i]))\n",
    "\n",
    "x = np.zeros((n+1,1)) + 300\n",
    "T3 = np.zeros((n+1,1))\n",
    "theta = np.reshape(theta[0], (n+1,1))\n",
    "T3 = theta + x\n",
    "T_mid.append(T3[15000])\n",
    "T_mid"
   ]
  },
  {
   "cell_type": "code",
   "execution_count": 25,
   "id": "b882f530",
   "metadata": {},
   "outputs": [],
   "source": [
    "E_t = np.zeros(len(T_mid))\n",
    "E_t = abs(T_Exact - T_mid)\n",
    "E_s = []\n",
    "for i in range(1,len(T_mid)):\n",
    "    if (i==len(T_mid)):\n",
    "        break\n",
    "    else:\n",
    "        E_s.append(abs(T_mid[i]-T_mid[i-1]))"
   ]
  },
  {
   "cell_type": "code",
   "execution_count": 52,
   "id": "db4842da",
   "metadata": {},
   "outputs": [
    {
     "data": {
      "image/png": "[encoded data removed]",
      "text/plain": [
       "<Figure size 720x720 with 1 Axes>"
      ]
     },
     "metadata": {
      "needs_background": "light"
     },
     "output_type": "display_data"
    }
   ],
   "source": [
    "from matplotlib.pyplot import figure\n",
    "\n",
    "figure(figsize=(9, 9), dpi=80)\n",
    "\n",
    "\n",
    "dx1 = [1/4, 1/10, 1/50, 1/100, 1/500, 1/1000, 1/5000, 1/10000, 1/20000, 1/30000]\n",
    "dx2 = [1/10, 1/50, 1/100, 1/500, 1/1000, 1/5000, 1/10000, 1/20000, 1/30000]\n",
    "plt.loglog(dx1, E_t, 'o-g', dx2, E_s, '*-b', linewidth = 2.5)\n",
    "plt.title('Errors vs dx', fontsize = 15)\n",
    "plt.xlabel('dx', fontsize = 15)\n",
    "plt.ylabel('Error', fontsize = 15)\n",
    "plt.grid(b=True, which='major', linewidth=1, linestyle='-')\n",
    "plt.grid(b=True, which='minor', linewidth=1, linestyle='-')\n",
    "plt.legend(( 'True Error', 'Successive Error'), loc = 0)\n",
    "plt.show()"
   ]
  },
  {
   "cell_type": "code",
   "execution_count": 53,
   "id": "ede5456f",
   "metadata": {},
   "outputs": [
    {
     "data": {
      "image/png": "[encoded data removed]",
      "text/plain": [
       "<Figure size 640x640 with 1 Axes>"
      ]
     },
     "metadata": {
      "needs_background": "light"
     },
     "output_type": "display_data"
    }
   ],
   "source": [
    "from matplotlib.pyplot import figure\n",
    "\n",
    "figure(figsize=(8, 8), dpi=80)\n",
    "\n",
    "x = np.linspace(0, 1, len(T1))\n",
    "plt.loglog( x, T_Exact1, '-k', x, T1, 'ob', linewidth = 2.5)\n",
    "plt.title('Tempreture distribution on fin in direction of x', fontsize = 15)\n",
    "plt.xlabel('x', fontsize = 15)\n",
    "plt.ylabel('T', fontsize = 15)\n",
    "plt.grid(b=True, which='major', linewidth=1, linestyle='-')\n",
    "plt.grid(b=True, which='minor', linewidth=1, linestyle='-')\n",
    "plt.legend(( 'Exact Solution', 'Numerical Solution(for mesh size 10000)'), loc = 0)\n",
    "plt.show()"
   ]
  },
  {
   "cell_type": "code",
   "execution_count": 54,
   "id": "14892e86",
   "metadata": {},
   "outputs": [
    {
     "data": {
      "image/png": "[encoded data removed]",
      "text/plain": [
       "<Figure size 720x720 with 1 Axes>"
      ]
     },
     "metadata": {
      "needs_background": "light"
     },
     "output_type": "display_data"
    }
   ],
   "source": [
    "from matplotlib.pyplot import figure\n",
    "\n",
    "figure(figsize=(8, 8), dpi=90)\n",
    "\n",
    "x0 = np.linspace(0, 1, len(T0))\n",
    "x1 = np.linspace(0, 1, len(T1))\n",
    "x2 = np.linspace(0, 1, len(T2))\n",
    "x3 = np.linspace(0, 1, len(T3))\n",
    "plt.loglog(x0, T0, '-r', x1, T1, '-ok', x2, T2, '*-g', x3, T3, '--b', linewidth = 2.5)\n",
    "plt.title('Tempreture distribution on fin in direction of x', fontsize = 15)\n",
    "plt.xlabel('x', fontsize = 15)\n",
    "plt.ylabel('T', fontsize = 15)\n",
    "plt.grid(b=True, which='major', linewidth=1, linestyle='-')\n",
    "plt.grid(b=True, which='minor', linewidth=1, linestyle='-')\n",
    "plt.legend(( 'Numerical Solution(for mesh size 5000)', 'Numerical Solution(for mesh size 10000)',\\\n",
    "           'Numerical Solution(for mesh size 20000)', 'Numerical Solution(for mesh size 30000)'),loc = 0)\n",
    "plt.show()"
   ]
  }
 ],
 "metadata": {
  "kernelspec": {
   "display_name": "Python 3 (ipykernel)",
   "language": "python",
   "name": "python3"
  },
  "language_info": {
   "codemirror_mode": {
    "name": "ipython",
    "version": 3
   },
   "file_extension": ".py",
   "mimetype": "text/x-python",
   "name": "python",
   "nbconvert_exporter": "python",
   "pygments_lexer": "ipython3",
   "version": "3.9.7"
  }
 },
 "nbformat": 4,
 "nbformat_minor": 5
}
